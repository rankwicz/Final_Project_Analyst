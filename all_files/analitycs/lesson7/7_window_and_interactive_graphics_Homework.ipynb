{
 "cells": [
  {
   "cell_type": "markdown",
   "metadata": {},
   "source": [
    "# Проект урока 7. Оконные функции и интерактивные графики\n",
    "#  «Анализ средних цен на авокадо»"
   ]
  },
  {
   "cell_type": "markdown",
   "metadata": {},
   "source": [
    "## Шаг 1"
   ]
  },
  {
   "cell_type": "markdown",
   "metadata": {},
   "source": [
    "Представьте, что вы — аналитик в агентстве, специализирующемся на изучении рынка продуктов питания. Вам поручено исследовать тренды цен на авокадо и проанализировать средние значения. Для этого у вас есть данные от Hass Avocado Board:\n",
    "\n",
    "- Date — дата  \n",
    "- AveragePrice — средняя цена одного авокадо  \n",
    "- Total Volume — количество проданных авокадо  \n",
    "- 4046 — количество проданных авокадо PLU 4046 (PLU — код товара, Product Lookup code)  \n",
    "- 4225 — количество проданных авокадо PLU 4225  \n",
    "- 4770 — количество проданных авокадо PLU 4770  \n",
    "- Total Bags — всего упаковок  \n",
    "- Small Bags — маленькие упаковки  \n",
    "- Large Bags — большие  \n",
    "- XLarge Bags — очень большие  \n",
    "- type — обычный или органический  \n",
    "- year — год  \n",
    "- Region — город или регион the city or region of the observation  \n",
    "\n",
    "В датафрейме находятся данные не за каждый день, а за конец каждой недели. Для каждой даты есть несколько наблюдений, отличающихся по типу авокадо и региону продажи. "
   ]
  },
  {
   "cell_type": "markdown",
   "metadata": {},
   "source": [
    "Вы можете решать задания тем способом, который считаете наиболее удобным или оптимальным. А для того, чтобы лучше понять задание, следуйте по шагам выполнения. Бывает, что их можно выполнить в одну строчку, применяя методы друг за другом. А если выполняете шаги отдельно, не забудьте сохранить результат в переменную, чтобы на следующем шаге работать именно с ней.\n",
    "\n",
    "В ноутбуке место для вашего решения обозначено комментарием `# Ваш код здесь`, но вы можете писать код там, где вам удобно, добавлять или удалять ячейки с кодом или текстом по вашему усмотрению.\n",
    "\n",
    "Кроме того можно посмотреть подсказки, кликнув на строчку `► Нажмите сюда, чтобы увидеть подсказку`. Также не забывайте о наличии конспектов и возможности задать вопрос в Discord, ссылка на нужный тред есть на странице каждого шага в LMS"
   ]
  },
  {
   "cell_type": "markdown",
   "metadata": {},
   "source": [
    "## Шаг 2"
   ]
  },
  {
   "cell_type": "markdown",
   "metadata": {},
   "source": [
    "Для начала нас будут интересовать общие данные, без разбивки по типам авокадо и регионам. Прочитайте данные и сохраните датафрейм в переменную `avocado_full`. **Для каждой даты посчитайте усредненное значение средних цен на авокадо (см.колонку `AveragePrice`).** Сохраните результат в переменную `avocado_mean`.\n",
    "\n",
    "**Какое усредненное значение цены получилось в первой строчке, за 4 января 2015 года?** Округлять результат не нужно. В качестве разделителя дробной части используйте точку."
   ]
  },
  {
   "cell_type": "markdown",
   "metadata": {},
   "source": [
    "Шаги выполнения:  \n",
    "1. Импортируйте библиотеку pandas"
   ]
  },
  {
   "cell_type": "markdown",
   "metadata": {},
   "source": [
    "<details>\n",
    "<summary>&#9658; Нажмите сюда, чтобы увидеть подсказку</summary>\n",
    "  <p>\n",
    "      \n",
    "Для импорта библиотеки напишите\n",
    "```python\n",
    "import library as shortcut\n",
    "```\n",
    "где вместо `library` подставьте название библиотеки, а вместо `shortcut` - её общераспространённое сокращённое название\n",
    "</p>\n",
    "</details>"
   ]
  },
  {
   "cell_type": "code",
   "execution_count": 1,
   "metadata": {},
   "outputs": [],
   "source": [
    "# Ваш код здесь\n",
    "import pandas as pd\n"
   ]
  },
  {
   "cell_type": "markdown",
   "metadata": {},
   "source": [
    "2. Загрузите csv файл к уроку в свою папку в JupyterНub\n",
    "3. Прочитайте этот датасет, сохранив результат в переменную `avocado_full`. Укажите, что колонку `Date` нужно прочитать как дату"
   ]
  },
  {
   "cell_type": "markdown",
   "metadata": {},
   "source": [
    "<details>\n",
    "<summary>&#9658; Нажмите сюда, чтобы увидеть подсказку</summary>\n",
    "  <p>\n",
    "      \n",
    "Данные находятся в файле формата CSV. Для их загрузки воспользуемся функцией `pd.read_csv()`, передав в качестве аргумента путь к файлу. В параметр `parse_dates` передайте список, содержащий название единственной колонки - `Date`. Например,\n",
    "```python\n",
    "df = pd.read_csv('data.csv', parse_dates=['col_date'])\n",
    "```\n",
    "считает файл `data.csv`, хранящийся в той же папке, что и юпитер ноутбук, в котором вы сейчас работаете. В колонке `col_date` тип данных будет datetime\n",
    "</p>\n",
    "</details>"
   ]
  },
  {
   "cell_type": "code",
   "execution_count": 2,
   "metadata": {},
   "outputs": [],
   "source": [
    "# Ваш код здесь\n",
    "avocado_full = pd.read_csv('/home/karpov/test/lesson7/avocado_full.csv', parse_dates=['Date'])\n"
   ]
  },
  {
   "cell_type": "markdown",
   "metadata": {},
   "source": [
    "4. Посмотрите на содержимое датафрейма, проверьте его размер"
   ]
  },
  {
   "cell_type": "markdown",
   "metadata": {},
   "source": [
    "<details>\n",
    "<summary>&#9658; Нажмите сюда, чтобы увидеть подсказку</summary>\n",
    "  <p>\n",
    "      \n",
    "**Как посмотреть на содержимое датафрейма?** Используйте метод `head()`\n",
    "\n",
    "**Как проверить размер датафрейма?** Используйте атрибут `shape`, чтобы узнать количество строк и столбцов. Этот атрибут возвращает кортеж, первый элемент которого указывает на количество строк, а второй — на количество столбцов в датафрейме.  \n",
    "      \n",
    "**Как обратиться к атрибуту датафрейма?** Для этого нужно написать переменную, где хранится датафрейм, поставить точку и написать название атрибута (без скобок!). Например:\n",
    "```python\n",
    "df.some_attribute\n",
    "```\n",
    "так мы обратимся к атрибуту `some_attribute` у датафрейма в переменной `df` \n",
    "      \n",
    "**Как использовать метод?** Например применим метод `some_method()` к датафрейму `df`:\n",
    "```python\n",
    "df.some_method()\n",
    "```\n",
    "</p>\n",
    "</details>"
   ]
  },
  {
   "cell_type": "code",
   "execution_count": 3,
   "metadata": {},
   "outputs": [
    {
     "name": "stdout",
     "output_type": "stream",
     "text": [
      "<class 'pandas.core.frame.DataFrame'>\n",
      "RangeIndex: 18249 entries, 0 to 18248\n",
      "Data columns (total 13 columns):\n",
      " #   Column        Non-Null Count  Dtype         \n",
      "---  ------        --------------  -----         \n",
      " 0   Date          18249 non-null  datetime64[ns]\n",
      " 1   AveragePrice  18249 non-null  float64       \n",
      " 2   Total Volume  18249 non-null  float64       \n",
      " 3   4046          18249 non-null  float64       \n",
      " 4   4225          18249 non-null  float64       \n",
      " 5   4770          18249 non-null  float64       \n",
      " 6   Total Bags    18249 non-null  float64       \n",
      " 7   Small Bags    18249 non-null  float64       \n",
      " 8   Large Bags    18249 non-null  float64       \n",
      " 9   XLarge Bags   18249 non-null  float64       \n",
      " 10  type          18249 non-null  object        \n",
      " 11  year          18249 non-null  int64         \n",
      " 12  region        18249 non-null  object        \n",
      "dtypes: datetime64[ns](1), float64(9), int64(1), object(2)\n",
      "memory usage: 1.8+ MB\n"
     ]
    }
   ],
   "source": [
    "# Ваш код здесь\n",
    "avocado_full.info()\n"
   ]
  },
  {
   "cell_type": "markdown",
   "metadata": {},
   "source": [
    "5. Сгруппируйте данные по дате и посчитайте для каждой даты усредненное значение средних цен на авокадо (см.колонку `AveragePrice`). Результат сохраните в переменную `avocado_mean`"
   ]
  },
  {
   "cell_type": "markdown",
   "metadata": {},
   "source": [
    "<details>\n",
    "<summary>&#9658; Нажмите сюда, чтобы увидеть подсказку</summary>\n",
    "  <p>\n",
    "\n",
    "**Сгруппируйте данные по столбцу `Date`, используя метод `groupby()`**. Его вызов группирует строки по значениям в какой-то колонке (или комбинации значений из нескольких колонок). Например,\n",
    "\n",
    "```python\n",
    "df.groupby('month')\n",
    "```\n",
    "сгруппирует данные датафрейма `df` по колонке `month`. Сама по себе группировка не вычисляет что-то по группам.\n",
    "\n",
    "**После группировки используйте метод `mean()` для столбца `AveragePrice`**. Этот метод посчитает среднее всех значений в указанном столбце.\n",
    "\n",
    "**Как использовать метод?** Давайте применим метод `some_method()` к колонке `column_name` датафрейма `df`:\n",
    "```python\n",
    "df.column_name.some_method()\n",
    "```\n",
    "\n",
    "**Как использовать метод сразу после группировки?** Применим метод `some_method()` к колонке `column_name_2` после группировки по столбцу `column_name_1` датафрейма `df`:\n",
    "```python\n",
    "df.groupby('column_name_1').column_name_2.some_method()\n",
    "```      \n",
    "      \n",
    "**Как сохранить результат?** Например применим метод `some_method()` к датафрейму `df` и сохраним результат в переменную `new_df`:\n",
    "```python\n",
    "new_df = df.some_method()\n",
    "```\n",
    "</p>\n",
    "</details>"
   ]
  },
  {
   "cell_type": "code",
   "execution_count": 4,
   "metadata": {},
   "outputs": [
    {
     "data": {
      "text/html": [
       "<div>\n",
       "<style scoped>\n",
       "    .dataframe tbody tr th:only-of-type {\n",
       "        vertical-align: middle;\n",
       "    }\n",
       "\n",
       "    .dataframe tbody tr th {\n",
       "        vertical-align: top;\n",
       "    }\n",
       "\n",
       "    .dataframe thead th {\n",
       "        text-align: right;\n",
       "    }\n",
       "</style>\n",
       "<table border=\"1\" class=\"dataframe\">\n",
       "  <thead>\n",
       "    <tr style=\"text-align: right;\">\n",
       "      <th></th>\n",
       "      <th>AveragePrice</th>\n",
       "    </tr>\n",
       "    <tr>\n",
       "      <th>Date</th>\n",
       "      <th></th>\n",
       "    </tr>\n",
       "  </thead>\n",
       "  <tbody>\n",
       "    <tr>\n",
       "      <th>2015-01-04</th>\n",
       "      <td>1.301296</td>\n",
       "    </tr>\n",
       "    <tr>\n",
       "      <th>2015-01-11</th>\n",
       "      <td>1.370648</td>\n",
       "    </tr>\n",
       "    <tr>\n",
       "      <th>2015-01-18</th>\n",
       "      <td>1.391111</td>\n",
       "    </tr>\n",
       "    <tr>\n",
       "      <th>2015-01-25</th>\n",
       "      <td>1.397130</td>\n",
       "    </tr>\n",
       "    <tr>\n",
       "      <th>2015-02-01</th>\n",
       "      <td>1.247037</td>\n",
       "    </tr>\n",
       "    <tr>\n",
       "      <th>...</th>\n",
       "      <td>...</td>\n",
       "    </tr>\n",
       "    <tr>\n",
       "      <th>2018-02-25</th>\n",
       "      <td>1.359630</td>\n",
       "    </tr>\n",
       "    <tr>\n",
       "      <th>2018-03-04</th>\n",
       "      <td>1.350185</td>\n",
       "    </tr>\n",
       "    <tr>\n",
       "      <th>2018-03-11</th>\n",
       "      <td>1.335093</td>\n",
       "    </tr>\n",
       "    <tr>\n",
       "      <th>2018-03-18</th>\n",
       "      <td>1.313704</td>\n",
       "    </tr>\n",
       "    <tr>\n",
       "      <th>2018-03-25</th>\n",
       "      <td>1.346852</td>\n",
       "    </tr>\n",
       "  </tbody>\n",
       "</table>\n",
       "<p>169 rows × 1 columns</p>\n",
       "</div>"
      ],
      "text/plain": [
       "            AveragePrice\n",
       "Date                    \n",
       "2015-01-04      1.301296\n",
       "2015-01-11      1.370648\n",
       "2015-01-18      1.391111\n",
       "2015-01-25      1.397130\n",
       "2015-02-01      1.247037\n",
       "...                  ...\n",
       "2018-02-25      1.359630\n",
       "2018-03-04      1.350185\n",
       "2018-03-11      1.335093\n",
       "2018-03-18      1.313704\n",
       "2018-03-25      1.346852\n",
       "\n",
       "[169 rows x 1 columns]"
      ]
     },
     "execution_count": 4,
     "metadata": {},
     "output_type": "execute_result"
    }
   ],
   "source": [
    "# Ваш код здесь\n",
    "avocado_mean = avocado_full.groupby('Date').agg({'AveragePrice': 'mean'})\n",
    "avocado_mean"
   ]
  },
  {
   "cell_type": "markdown",
   "metadata": {},
   "source": [
    "6. Посмотрите на значение усредненной цены в первой строчке получившейся переменной `avocado_mean`"
   ]
  },
  {
   "cell_type": "markdown",
   "metadata": {},
   "source": [
    "<details>\n",
    "<summary>&#9658; Нажмите сюда, чтобы увидеть подсказку</summary>\n",
    "  <p>\n",
    "\n",
    "Это можно сделать без кода, просто глазами.\n",
    "      \n",
    "Если в первой строчке у вас стоит не 4 января 2015 года, а другая дата - вероятно, вы что-то сделали не так, вернитесь на предыдущий шаг выполнения\n",
    "</p>\n",
    "</details>"
   ]
  },
  {
   "cell_type": "markdown",
   "metadata": {},
   "source": [
    "## Шаг 3"
   ]
  },
  {
   "cell_type": "markdown",
   "metadata": {},
   "source": [
    "Перед тем, как приступить к подсчету скользящего среднего, убедитесь, что вы знаете параметры метода `rolling`, представленные в [документации pandas](https://pandas.pydata.org/pandas-docs/stable/reference/api/pandas.DataFrame.rolling.html). Установите соответствие между каждым параметром и его описанием."
   ]
  },
  {
   "cell_type": "markdown",
   "metadata": {},
   "source": [
    "Шаги выполнения:  \n",
    "1. Откройте документацию по ссылке: https://pandas.pydata.org/pandas-docs/stable/reference/api/pandas.DataFrame.rolling.html и прочитайте, что значит каждый из параметров"
   ]
  },
  {
   "cell_type": "markdown",
   "metadata": {},
   "source": [
    "<details>\n",
    "<summary>&#9658; Нажмите сюда, чтобы увидеть подсказку</summary>\n",
    "  <p>\n",
    "      \n",
    "При необходимости воспользуйтесь переводчиком\n",
    "</p>\n",
    "</details>"
   ]
  },
  {
   "cell_type": "markdown",
   "metadata": {},
   "source": [
    "## Шаг 4"
   ]
  },
  {
   "cell_type": "markdown",
   "metadata": {},
   "source": [
    "**Теперь на полученных во втором шаге данных посчитайте скользящее среднее цены авокадо, с окном равным 3. Чему равно максимальное значение?** Ответ округлите до двух знаков после точки."
   ]
  },
  {
   "cell_type": "markdown",
   "metadata": {},
   "source": [
    "Шаги выполнения:  \n",
    "1. На данных из переменной `avocado_mean ` посчитайте скользящее среднее цены авокадо, с окном равным 3"
   ]
  },
  {
   "cell_type": "markdown",
   "metadata": {},
   "source": [
    "<details>\n",
    "<summary>&#9658; Нажмите сюда, чтобы увидеть подсказку</summary>\n",
    "  <p>\n",
    "      \n",
    "**Как посчитать скользящее среднее, с окном равным 3?** Используйте комбинацию методов: сначала метод `rolling()`, в котором задайте параметр `window` равным 3; а после него - метод `mean`.\n",
    "    \n",
    "**Как использовать комбинацию методов?** Например применим сначала метод `some_method_1()` к серии `series` и зададим параметр `parameter` равным 5, а после него - метод `some_method_2()`:\n",
    "```python\n",
    "series.some_method_1(parameter=5).some_method_2()\n",
    "```\n",
    "      \n",
    "Если в переменной `avocado_mean` у вас получилась не серия с датой в индексе, а датафрейм с двумя колонками (дата и средняя цена), то применяйте метод `rolling()` к колонке `AveragePrice` этого датафрейма. Пример синтаксиса:\n",
    "```python\n",
    "df.col_name.some_method_1(parameter=5).some_method_2()\n",
    "```      \n",
    "</p>\n",
    "</details>"
   ]
  },
  {
   "cell_type": "code",
   "execution_count": 5,
   "metadata": {},
   "outputs": [],
   "source": [
    "# Ваш код здесь\n",
    "roll = avocado_mean.rolling(3).mean()\n"
   ]
  },
  {
   "cell_type": "markdown",
   "metadata": {},
   "source": [
    "2. Посмотрите на получившиеся значения - теперь к каждой дате относится среднее значение, полученное из значений за этот и два предыдущих дня. Первые две записи должны содержать `NaN`\n",
    "3. Определите максимальное значение из получившихся скользящих средних"
   ]
  },
  {
   "cell_type": "markdown",
   "metadata": {},
   "source": [
    "<details>\n",
    "<summary>&#9658; Нажмите сюда, чтобы увидеть подсказку</summary>\n",
    "  <p>\n",
    "      \n",
    "**Как определить максимальное значение?** Используйте метод `max()`\n",
    "      \n",
    "**Как использовать метод?** Например применим метод `some_method()` к датафрейму `df`:\n",
    "```python\n",
    "df.some_method()\n",
    "```\n",
    "</p>\n",
    "</details>"
   ]
  },
  {
   "cell_type": "code",
   "execution_count": 6,
   "metadata": {},
   "outputs": [],
   "source": [
    "# Ваш код здесь\n",
    "roll = roll.max()\n"
   ]
  },
  {
   "cell_type": "markdown",
   "metadata": {},
   "source": [
    "4. Округлите максимальное значение до двух знаков после точки"
   ]
  },
  {
   "cell_type": "markdown",
   "metadata": {},
   "source": [
    "<details>\n",
    "<summary>&#9658; Нажмите сюда, чтобы увидеть подсказку</summary>\n",
    "  <p>\n",
    "\n",
    "Используйте метод `round()`. По умолчанию округление идет до целого числа. Чтобы задать нужное число знаков после точки, передайте в метод аргумент — целое число. Например применим метод к колонке `column_name` датафрейма `df`, задав округление до пяти знаков после точки:\n",
    "```python\n",
    "df.column_name.round(5)\n",
    "```\n",
    "\n",
    "Если выполняете задание не в JupyterHub нашего курса, то может возникнуть ошибка `AttributeError: 'float' object has no attribute 'round'`, тогда вместо метода `round()` используйте встроенную функцию python `round`. Например:\n",
    "```python\n",
    "round(12.345, 1)\n",
    "```\n",
    "в результате получим число 12.3      \n",
    "</p>\n",
    "</details>"
   ]
  },
  {
   "cell_type": "code",
   "execution_count": 7,
   "metadata": {},
   "outputs": [
    {
     "data": {
      "text/plain": [
       "AveragePrice    1.85\n",
       "dtype: float64"
      ]
     },
     "execution_count": 7,
     "metadata": {},
     "output_type": "execute_result"
    }
   ],
   "source": [
    "# Ваш код здесь\n",
    "roll.round(2)\n"
   ]
  },
  {
   "cell_type": "markdown",
   "metadata": {},
   "source": [
    "## Шаг 5"
   ]
  },
  {
   "cell_type": "markdown",
   "metadata": {},
   "source": [
    "Исследуйте, как размер окна влияет на сглаживание значения. **Постройте линейные графики и посмотрите, как изменится линия в зависимости от выбранного размера окна (2, 4, 10, 50). Соотнесите эти картинки с соответствующим значением размера окна:**"
   ]
  },
  {
   "cell_type": "markdown",
   "metadata": {},
   "source": [
    "![](https://ucarecdn.com/c24cc8c4-4596-4d71-a6ca-b5ad8ac3cd6f/)"
   ]
  },
  {
   "cell_type": "markdown",
   "metadata": {},
   "source": [
    "Шаги выполнения:  \n",
    "1. Импортируйте библиотеку `seaborn` и модуль `pyplot` из библиотеки `matplotlib`"
   ]
  },
  {
   "cell_type": "markdown",
   "metadata": {},
   "source": [
    "<details>\n",
    "<summary>&#9658; Нажмите сюда, чтобы увидеть подсказку</summary>\n",
    "  <p>\n",
    "      \n",
    "**Для импорта библиотеки напишите**\n",
    "```python\n",
    "import library as shortcut\n",
    "```\n",
    "где вместо `library` подставьте название библиотеки, а вместо `shortcut` - её общераспространённое сокращённое название\n",
    "      \n",
    "**Для импорта модуля из библиотеки напишите**\n",
    "\n",
    "```python\n",
    "import library.module as shortcut\n",
    "```\n",
    "где вместо `library` подставьте название библиотеки, вместо `module` — название модуля, а вместо `shortcut` — его общераспространённое сокращённое название\n",
    "</p>\n",
    "</details>"
   ]
  },
  {
   "cell_type": "code",
   "execution_count": 8,
   "metadata": {},
   "outputs": [],
   "source": [
    "# Ваш код здесь\n",
    "import seaborn as sns\n",
    "import matplotlib.pyplot as plt\n"
   ]
  },
  {
   "cell_type": "markdown",
   "metadata": {},
   "source": [
    "2. Создайте список `windows`, в котором перечислите значения размеров окна"
   ]
  },
  {
   "cell_type": "markdown",
   "metadata": {},
   "source": [
    "<details>\n",
    "<summary>&#9658; Нажмите сюда, чтобы увидеть подсказку</summary>\n",
    "  <p>\n",
    "      \n",
    "**Чтобы создать список,** напишите в квадратных скобках числа, означающие размер окна, и сохраните это в переменную `windows`. Например, код:\n",
    "```python\n",
    "list_123 = [1, 2, 3]\n",
    "```\n",
    "создаст переменную `list_123`, в которой будет храниться список с тремя значениями: 1, 2 и 3\n",
    "</p>\n",
    "</details>"
   ]
  },
  {
   "cell_type": "code",
   "execution_count": 9,
   "metadata": {},
   "outputs": [],
   "source": [
    "# Ваш код здесь\n",
    "windows = [2,4,10,50]\n"
   ]
  },
  {
   "cell_type": "markdown",
   "metadata": {},
   "source": [
    "3. Постройте линейные графики с разными размерами окон, используя функцию `plt.subplots()` из библиотеки `matplotlib` и функцию `lineplot` из библиотеки `seaborn`"
   ]
  },
  {
   "cell_type": "markdown",
   "metadata": {},
   "source": [
    "<details>\n",
    "<summary>&#9658; Нажмите сюда, чтобы увидеть подсказку</summary>\n",
    "  <p>\n",
    "      \n",
    "**Выполните в одной ячейке:**\n",
    "      \n",
    "1. Сохраните в переменные `fig, axes` результат выполнения функции `plt.subplots` c аргументами `4, 1, figsize=(8, 12)`, где 4 - количество графиков по вертикали, 1 - количество графиков по горизонтали, figsize - общий размер фигуры из 4 графиков\n",
    "      \n",
    "2. Напишите цикл, чтобы на каждом его шаге генерилась пара переменных `i, window` с помощью функции `enumerate`, в которую передан список `windows` со значениями размера окна (с предыдущего шага выполнения). В теле цикла:  \n",
    "      a. создавайте новый датафрейм, в котором на основе данных из `avocado_mean` считается скользящее среднее с размером окна, равным числу из переменной `window`  \n",
    "      b. стройте график на основе этого датафрейма, используя функцию `sns.lineplot`. В параметр `ax` этой функции передайте `axes[i]`, чтобы на каждом шаге цикла график строился на своем месте  \n",
    "      c. установите название для каждого графика, в котором пропишите размер окна. Для этого используйте `axes[i].set_title()`, f-строку и размер окна из переменной `window`\n",
    "      \n",
    "3. Используйте функцию `plt.tight_layout()`, чтобы интервал между графиками был корректным и графики не перекрывали друг друга\n",
    "     \n",
    "Пример синтаксиса:      \n",
    "\n",
    "```python\n",
    "fig, axes = plt.subplots(2, 1, figsize=(8, 6))\n",
    "for i, variable in enumerate(variables):\n",
    "    df_new = df.some_method(some_parameter=variable)\n",
    "    sns.barplot(data=df_new, ax=axes[i])\n",
    "    axes[i].set_title(f'variable is {variable}')\n",
    "plt.tight_layout()\n",
    "```      \n",
    "</p>\n",
    "</details>"
   ]
  },
  {
   "cell_type": "code",
   "execution_count": 10,
   "metadata": {},
   "outputs": [
    {
     "data": {
      "image/png": "[encoded data removed]",
      "text/plain": [
       "<Figure size 576x864 with 4 Axes>"
      ]
     },
     "metadata": {
      "needs_background": "light"
     },
     "output_type": "display_data"
    }
   ],
   "source": [
    "# Ваш код здесь\n",
    "fig, axes = plt.subplots(4, 1, figsize =(8, 12))\n",
    "for i, window in enumerate(windows):\n",
    "    df_new = avocado_mean.rolling(window).mean()\n",
    "    sns.lineplot(data = df_new, ax = axes[i])\n",
    "    axes[i].set_title(f'window is {window}')\n",
    "plt.tight_layout()"
   ]
  },
  {
   "cell_type": "markdown",
   "metadata": {},
   "source": [
    "4. Посмотрите на получившиеся графики и соотнесите картинки в LMS с соответствующим значением размера окна"
   ]
  },
  {
   "cell_type": "markdown",
   "metadata": {},
   "source": [
    "<details>\n",
    "<summary>&#9658; Нажмите сюда, чтобы увидеть подсказку</summary>\n",
    "  <p>\n",
    "      \n",
    "Обратите внимание на то, насколько сглаженными получились значения.\n",
    "      \n",
    "Цвет графика не играет роли\n",
    "</p>\n",
    "</details>"
   ]
  },
  {
   "cell_type": "markdown",
   "metadata": {},
   "source": [
    "## Шаг 6"
   ]
  },
  {
   "cell_type": "markdown",
   "metadata": {},
   "source": [
    "**Теперь посчитайте экспоненциальное скользящее среднее.** Используйте данные в переменной `avocado_mean` и метод `ewm()` с параметром `span`, равным 2. Результат запишите в переменную `avocado_ewm`.\n",
    "\n",
    "**На LMS уже создана переменная `avocado_mean`. Загрузите в LMS ваш код, в котором сохраняете в переменную `avocado_ewm` расчет экспоненциального скользящего среднего**"
   ]
  },
  {
   "cell_type": "markdown",
   "metadata": {},
   "source": [
    "Шаги выполнения:  \n",
    "1. Посчитайте экспоненциальное скользящее среднее на основе данных из переменной `avocado_mean`. Используйте метод `ewm()` с параметром `span`, равным 2, и метод `mean()`. Результат запишите в переменную `avocado_ewm`"
   ]
  },
  {
   "cell_type": "markdown",
   "metadata": {},
   "source": [
    "<details>\n",
    "<summary>&#9658; Нажмите сюда, чтобы увидеть подсказку</summary>\n",
    "  <p>\n",
    "      \n",
    "Как использовать методы `ewm()` и `mean()`? Напишите их друг за другом, сначала `ewm()`. В этом методе задайте параметр `span=2`\n",
    "      \n",
    "Например применим сначала метод `some_method_1()` к серии `series` и зададим параметр `parameter` равным 5, а после него - метод `some_method_2()`. Результат запишем в переменную `new_variable`:\n",
    "```python\n",
    "new_variable = series.some_method_1(parameter=5).some_method_2()\n",
    "```\n",
    "\n",
    "**Не забудьте сохранить результат в переменную `avocado_ewm`.**  \n",
    "      \n",
    "Если в `avocado_mean` к этому моменту у вас получилась не серия с датой в индексе, а датафрейм с двумя колонками (дата и средняя цена), то сначала переведите колонку с датой в индекс и сохраните результат в ту же переменную `avocado_mean` с помощью следующего кода:\n",
    "```python\n",
    "avocado_mean = avocado_mean.set_index('Date')\n",
    "```      \n",
    "**Этот код копировать в ЛМС не нужно**    \n",
    "</p>\n",
    "</details>"
   ]
  },
  {
   "cell_type": "code",
   "execution_count": 11,
   "metadata": {},
   "outputs": [],
   "source": [
    "# Ваш код здесь\n",
    "avocado_ewm = avocado_mean.ewm(span=2).mean()\n"
   ]
  },
  {
   "cell_type": "markdown",
   "metadata": {},
   "source": [
    "2. Скопируйте и загрузите в LMS весь ваш код для этого задания"
   ]
  },
  {
   "cell_type": "markdown",
   "metadata": {},
   "source": [
    "## Шаг 7"
   ]
  },
  {
   "cell_type": "markdown",
   "metadata": {},
   "source": [
    "Теперь вернемся к изначальным данным из датафрейма `avocado_full`. Для органических авокадо (см.колонку `type`) в Чикаго (см.колонку `region`) посчитайте скользящее среднее с окном 4. Числа округлите до трех знаков после точки. На основе получившихся данных постройте интерактивный линейный график, чтобы было удобно заполнить пропуски:\n",
    "\n",
    "*При подсчете скользящего среднего средняя цена за авокадо 21 августа 2016 года была равна ..., 19 февраля 2017 её значение было равно ...*"
   ]
  },
  {
   "cell_type": "markdown",
   "metadata": {},
   "source": [
    "Шаги выполнения:  \n",
    "1. Отберите только записи о покупках органических авокадо в Чикаго и сохраните результат в переменную `organic_ch`"
   ]
  },
  {
   "cell_type": "markdown",
   "metadata": {},
   "source": [
    "<details>\n",
    "<summary>&#9658; Нажмите сюда, чтобы увидеть подсказку</summary>\n",
    "  <p>\n",
    "\n",
    "**Чтобы отобрать только нужные записи, примените к датафрейму метод `query()`,** внутри которого напишите строку с двойным условием: значение в колонке `type` равно organic и регион в колонке `region` — Chicago.\n",
    "\n",
    "Как использовать метод `query()`? Например, отберем строки датафрейма `df`, где в колонке `col_1` значение равно 5 или в колонке `col_2` значение не равно `some_string`:\n",
    "\n",
    "```python\n",
    "df_new = df.query('col_1 == 5 or col_2 != \"some_string\"')\n",
    "```    \n",
    "      \n",
    "Между условиями поставьте логический оператор: `and` (или `&`), если оба условия обязательно должны выполняться. Или оператор `or` (или `|`), если должно выполняться хотя бы одно из условий.\n",
    "      \n",
    "Учтите, что оба условия нужно писать в единых кавычках, а каждое условие и названия колонок — без кавычек. Целые числа также пишутся без кавычек, а строки — в кавычках (двойных или одинарных — главное, не тех, в которые взяты оба условия).\n",
    "      \n",
    "Помните, что один знак равно означает присвоение, а два — проверку на равенство.\n",
    "      \n",
    "**Как сохранить отобранные записи в новый датафрейм?** Например, код\n",
    "```python\n",
    "new_df = df.query()\n",
    "```\n",
    "сохранит в датафрейм `new_df` только отобранные значения из датафрейма `df`\n",
    "    \n",
    "</p>\n",
    "</details>"
   ]
  },
  {
   "cell_type": "code",
   "execution_count": 12,
   "metadata": {},
   "outputs": [
    {
     "data": {
      "text/html": [
       "<div>\n",
       "<style scoped>\n",
       "    .dataframe tbody tr th:only-of-type {\n",
       "        vertical-align: middle;\n",
       "    }\n",
       "\n",
       "    .dataframe tbody tr th {\n",
       "        vertical-align: top;\n",
       "    }\n",
       "\n",
       "    .dataframe thead th {\n",
       "        text-align: right;\n",
       "    }\n",
       "</style>\n",
       "<table border=\"1\" class=\"dataframe\">\n",
       "  <thead>\n",
       "    <tr style=\"text-align: right;\">\n",
       "      <th></th>\n",
       "      <th>Date</th>\n",
       "      <th>AveragePrice</th>\n",
       "      <th>Total Volume</th>\n",
       "      <th>4046</th>\n",
       "      <th>4225</th>\n",
       "      <th>4770</th>\n",
       "      <th>Total Bags</th>\n",
       "      <th>Small Bags</th>\n",
       "      <th>Large Bags</th>\n",
       "      <th>XLarge Bags</th>\n",
       "      <th>type</th>\n",
       "      <th>year</th>\n",
       "      <th>region</th>\n",
       "    </tr>\n",
       "  </thead>\n",
       "  <tbody>\n",
       "    <tr>\n",
       "      <th>1</th>\n",
       "      <td>2015-01-04</td>\n",
       "      <td>1.49</td>\n",
       "      <td>17723.17</td>\n",
       "      <td>1189.35</td>\n",
       "      <td>15628.27</td>\n",
       "      <td>0.0</td>\n",
       "      <td>905.55</td>\n",
       "      <td>905.55</td>\n",
       "      <td>0.00</td>\n",
       "      <td>0.0</td>\n",
       "      <td>organic</td>\n",
       "      <td>2015</td>\n",
       "      <td>Chicago</td>\n",
       "    </tr>\n",
       "    <tr>\n",
       "      <th>153</th>\n",
       "      <td>2015-01-11</td>\n",
       "      <td>1.79</td>\n",
       "      <td>12915.74</td>\n",
       "      <td>1426.75</td>\n",
       "      <td>10900.10</td>\n",
       "      <td>0.0</td>\n",
       "      <td>588.89</td>\n",
       "      <td>588.89</td>\n",
       "      <td>0.00</td>\n",
       "      <td>0.0</td>\n",
       "      <td>organic</td>\n",
       "      <td>2015</td>\n",
       "      <td>Chicago</td>\n",
       "    </tr>\n",
       "    <tr>\n",
       "      <th>293</th>\n",
       "      <td>2015-01-18</td>\n",
       "      <td>1.81</td>\n",
       "      <td>12499.87</td>\n",
       "      <td>1154.81</td>\n",
       "      <td>10830.61</td>\n",
       "      <td>0.0</td>\n",
       "      <td>514.45</td>\n",
       "      <td>514.45</td>\n",
       "      <td>0.00</td>\n",
       "      <td>0.0</td>\n",
       "      <td>organic</td>\n",
       "      <td>2015</td>\n",
       "      <td>Chicago</td>\n",
       "    </tr>\n",
       "    <tr>\n",
       "      <th>343</th>\n",
       "      <td>2015-01-25</td>\n",
       "      <td>1.83</td>\n",
       "      <td>10951.51</td>\n",
       "      <td>711.63</td>\n",
       "      <td>9515.44</td>\n",
       "      <td>0.0</td>\n",
       "      <td>724.44</td>\n",
       "      <td>724.44</td>\n",
       "      <td>0.00</td>\n",
       "      <td>0.0</td>\n",
       "      <td>organic</td>\n",
       "      <td>2015</td>\n",
       "      <td>Chicago</td>\n",
       "    </tr>\n",
       "    <tr>\n",
       "      <th>537</th>\n",
       "      <td>2015-02-01</td>\n",
       "      <td>1.52</td>\n",
       "      <td>14391.05</td>\n",
       "      <td>1363.35</td>\n",
       "      <td>11835.47</td>\n",
       "      <td>0.0</td>\n",
       "      <td>1192.23</td>\n",
       "      <td>1192.23</td>\n",
       "      <td>0.00</td>\n",
       "      <td>0.0</td>\n",
       "      <td>organic</td>\n",
       "      <td>2015</td>\n",
       "      <td>Chicago</td>\n",
       "    </tr>\n",
       "    <tr>\n",
       "      <th>...</th>\n",
       "      <td>...</td>\n",
       "      <td>...</td>\n",
       "      <td>...</td>\n",
       "      <td>...</td>\n",
       "      <td>...</td>\n",
       "      <td>...</td>\n",
       "      <td>...</td>\n",
       "      <td>...</td>\n",
       "      <td>...</td>\n",
       "      <td>...</td>\n",
       "      <td>...</td>\n",
       "      <td>...</td>\n",
       "      <td>...</td>\n",
       "    </tr>\n",
       "    <tr>\n",
       "      <th>17785</th>\n",
       "      <td>2018-02-25</td>\n",
       "      <td>1.68</td>\n",
       "      <td>36432.65</td>\n",
       "      <td>246.73</td>\n",
       "      <td>29263.75</td>\n",
       "      <td>0.0</td>\n",
       "      <td>6922.17</td>\n",
       "      <td>6908.84</td>\n",
       "      <td>13.33</td>\n",
       "      <td>0.0</td>\n",
       "      <td>organic</td>\n",
       "      <td>2018</td>\n",
       "      <td>Chicago</td>\n",
       "    </tr>\n",
       "    <tr>\n",
       "      <th>17897</th>\n",
       "      <td>2018-03-04</td>\n",
       "      <td>1.62</td>\n",
       "      <td>46026.58</td>\n",
       "      <td>1107.05</td>\n",
       "      <td>35255.03</td>\n",
       "      <td>0.0</td>\n",
       "      <td>9664.50</td>\n",
       "      <td>9654.50</td>\n",
       "      <td>10.00</td>\n",
       "      <td>0.0</td>\n",
       "      <td>organic</td>\n",
       "      <td>2018</td>\n",
       "      <td>Chicago</td>\n",
       "    </tr>\n",
       "    <tr>\n",
       "      <th>17984</th>\n",
       "      <td>2018-03-11</td>\n",
       "      <td>1.66</td>\n",
       "      <td>41969.83</td>\n",
       "      <td>583.18</td>\n",
       "      <td>32382.95</td>\n",
       "      <td>0.0</td>\n",
       "      <td>9003.70</td>\n",
       "      <td>8990.36</td>\n",
       "      <td>13.34</td>\n",
       "      <td>0.0</td>\n",
       "      <td>organic</td>\n",
       "      <td>2018</td>\n",
       "      <td>Chicago</td>\n",
       "    </tr>\n",
       "    <tr>\n",
       "      <th>18075</th>\n",
       "      <td>2018-03-18</td>\n",
       "      <td>1.66</td>\n",
       "      <td>35542.17</td>\n",
       "      <td>184.53</td>\n",
       "      <td>26955.74</td>\n",
       "      <td>0.0</td>\n",
       "      <td>8401.90</td>\n",
       "      <td>8398.57</td>\n",
       "      <td>3.33</td>\n",
       "      <td>0.0</td>\n",
       "      <td>organic</td>\n",
       "      <td>2018</td>\n",
       "      <td>Chicago</td>\n",
       "    </tr>\n",
       "    <tr>\n",
       "      <th>18151</th>\n",
       "      <td>2018-03-25</td>\n",
       "      <td>1.69</td>\n",
       "      <td>35088.36</td>\n",
       "      <td>324.87</td>\n",
       "      <td>27550.29</td>\n",
       "      <td>0.0</td>\n",
       "      <td>7213.20</td>\n",
       "      <td>7176.54</td>\n",
       "      <td>36.66</td>\n",
       "      <td>0.0</td>\n",
       "      <td>organic</td>\n",
       "      <td>2018</td>\n",
       "      <td>Chicago</td>\n",
       "    </tr>\n",
       "  </tbody>\n",
       "</table>\n",
       "<p>169 rows × 13 columns</p>\n",
       "</div>"
      ],
      "text/plain": [
       "            Date  AveragePrice  Total Volume     4046      4225  4770  \\\n",
       "1     2015-01-04          1.49      17723.17  1189.35  15628.27   0.0   \n",
       "153   2015-01-11          1.79      12915.74  1426.75  10900.10   0.0   \n",
       "293   2015-01-18          1.81      12499.87  1154.81  10830.61   0.0   \n",
       "343   2015-01-25          1.83      10951.51   711.63   9515.44   0.0   \n",
       "537   2015-02-01          1.52      14391.05  1363.35  11835.47   0.0   \n",
       "...          ...           ...           ...      ...       ...   ...   \n",
       "17785 2018-02-25          1.68      36432.65   246.73  29263.75   0.0   \n",
       "17897 2018-03-04          1.62      46026.58  1107.05  35255.03   0.0   \n",
       "17984 2018-03-11          1.66      41969.83   583.18  32382.95   0.0   \n",
       "18075 2018-03-18          1.66      35542.17   184.53  26955.74   0.0   \n",
       "18151 2018-03-25          1.69      35088.36   324.87  27550.29   0.0   \n",
       "\n",
       "       Total Bags  Small Bags  Large Bags  XLarge Bags     type  year   region  \n",
       "1          905.55      905.55        0.00          0.0  organic  2015  Chicago  \n",
       "153        588.89      588.89        0.00          0.0  organic  2015  Chicago  \n",
       "293        514.45      514.45        0.00          0.0  organic  2015  Chicago  \n",
       "343        724.44      724.44        0.00          0.0  organic  2015  Chicago  \n",
       "537       1192.23     1192.23        0.00          0.0  organic  2015  Chicago  \n",
       "...           ...         ...         ...          ...      ...   ...      ...  \n",
       "17785     6922.17     6908.84       13.33          0.0  organic  2018  Chicago  \n",
       "17897     9664.50     9654.50       10.00          0.0  organic  2018  Chicago  \n",
       "17984     9003.70     8990.36       13.34          0.0  organic  2018  Chicago  \n",
       "18075     8401.90     8398.57        3.33          0.0  organic  2018  Chicago  \n",
       "18151     7213.20     7176.54       36.66          0.0  organic  2018  Chicago  \n",
       "\n",
       "[169 rows x 13 columns]"
      ]
     },
     "execution_count": 12,
     "metadata": {},
     "output_type": "execute_result"
    }
   ],
   "source": [
    "# Ваш код здесь\n",
    "organic_ch = avocado_full.query('region == \"Chicago\" and type == \"organic\"')\n",
    "organic_ch"
   ]
  },
  {
   "cell_type": "markdown",
   "metadata": {},
   "source": [
    "2. Переведите колонку с датой `Date` в индекс"
   ]
  },
  {
   "cell_type": "markdown",
   "metadata": {},
   "source": [
    "<details>\n",
    "<summary>&#9658; Нажмите сюда, чтобы увидеть подсказку</summary>\n",
    "  <p>\n",
    "      \n",
    "Примените к датафрейму метод `set_index()`, подав в метод строку с названием колонки, которую нужно сделать индексом.\n",
    "      \n",
    "**Как использовать метод?** Например применим метод `some_method()` к датафрейму `df`:\n",
    "```python\n",
    "df = df.some_method('some_column')\n",
    "```\n",
    "Не забудьте сохранить результат применения метода в этот же датафрейм.\n",
    "</p>\n",
    "</details>"
   ]
  },
  {
   "cell_type": "code",
   "execution_count": 13,
   "metadata": {},
   "outputs": [
    {
     "data": {
      "text/html": [
       "<div>\n",
       "<style scoped>\n",
       "    .dataframe tbody tr th:only-of-type {\n",
       "        vertical-align: middle;\n",
       "    }\n",
       "\n",
       "    .dataframe tbody tr th {\n",
       "        vertical-align: top;\n",
       "    }\n",
       "\n",
       "    .dataframe thead th {\n",
       "        text-align: right;\n",
       "    }\n",
       "</style>\n",
       "<table border=\"1\" class=\"dataframe\">\n",
       "  <thead>\n",
       "    <tr style=\"text-align: right;\">\n",
       "      <th></th>\n",
       "      <th>AveragePrice</th>\n",
       "      <th>Total Volume</th>\n",
       "      <th>4046</th>\n",
       "      <th>4225</th>\n",
       "      <th>4770</th>\n",
       "      <th>Total Bags</th>\n",
       "      <th>Small Bags</th>\n",
       "      <th>Large Bags</th>\n",
       "      <th>XLarge Bags</th>\n",
       "      <th>type</th>\n",
       "      <th>year</th>\n",
       "      <th>region</th>\n",
       "    </tr>\n",
       "    <tr>\n",
       "      <th>Date</th>\n",
       "      <th></th>\n",
       "      <th></th>\n",
       "      <th></th>\n",
       "      <th></th>\n",
       "      <th></th>\n",
       "      <th></th>\n",
       "      <th></th>\n",
       "      <th></th>\n",
       "      <th></th>\n",
       "      <th></th>\n",
       "      <th></th>\n",
       "      <th></th>\n",
       "    </tr>\n",
       "  </thead>\n",
       "  <tbody>\n",
       "    <tr>\n",
       "      <th>2015-01-04</th>\n",
       "      <td>1.49</td>\n",
       "      <td>17723.17</td>\n",
       "      <td>1189.35</td>\n",
       "      <td>15628.27</td>\n",
       "      <td>0.0</td>\n",
       "      <td>905.55</td>\n",
       "      <td>905.55</td>\n",
       "      <td>0.00</td>\n",
       "      <td>0.0</td>\n",
       "      <td>organic</td>\n",
       "      <td>2015</td>\n",
       "      <td>Chicago</td>\n",
       "    </tr>\n",
       "    <tr>\n",
       "      <th>2015-01-11</th>\n",
       "      <td>1.79</td>\n",
       "      <td>12915.74</td>\n",
       "      <td>1426.75</td>\n",
       "      <td>10900.10</td>\n",
       "      <td>0.0</td>\n",
       "      <td>588.89</td>\n",
       "      <td>588.89</td>\n",
       "      <td>0.00</td>\n",
       "      <td>0.0</td>\n",
       "      <td>organic</td>\n",
       "      <td>2015</td>\n",
       "      <td>Chicago</td>\n",
       "    </tr>\n",
       "    <tr>\n",
       "      <th>2015-01-18</th>\n",
       "      <td>1.81</td>\n",
       "      <td>12499.87</td>\n",
       "      <td>1154.81</td>\n",
       "      <td>10830.61</td>\n",
       "      <td>0.0</td>\n",
       "      <td>514.45</td>\n",
       "      <td>514.45</td>\n",
       "      <td>0.00</td>\n",
       "      <td>0.0</td>\n",
       "      <td>organic</td>\n",
       "      <td>2015</td>\n",
       "      <td>Chicago</td>\n",
       "    </tr>\n",
       "    <tr>\n",
       "      <th>2015-01-25</th>\n",
       "      <td>1.83</td>\n",
       "      <td>10951.51</td>\n",
       "      <td>711.63</td>\n",
       "      <td>9515.44</td>\n",
       "      <td>0.0</td>\n",
       "      <td>724.44</td>\n",
       "      <td>724.44</td>\n",
       "      <td>0.00</td>\n",
       "      <td>0.0</td>\n",
       "      <td>organic</td>\n",
       "      <td>2015</td>\n",
       "      <td>Chicago</td>\n",
       "    </tr>\n",
       "    <tr>\n",
       "      <th>2015-02-01</th>\n",
       "      <td>1.52</td>\n",
       "      <td>14391.05</td>\n",
       "      <td>1363.35</td>\n",
       "      <td>11835.47</td>\n",
       "      <td>0.0</td>\n",
       "      <td>1192.23</td>\n",
       "      <td>1192.23</td>\n",
       "      <td>0.00</td>\n",
       "      <td>0.0</td>\n",
       "      <td>organic</td>\n",
       "      <td>2015</td>\n",
       "      <td>Chicago</td>\n",
       "    </tr>\n",
       "    <tr>\n",
       "      <th>...</th>\n",
       "      <td>...</td>\n",
       "      <td>...</td>\n",
       "      <td>...</td>\n",
       "      <td>...</td>\n",
       "      <td>...</td>\n",
       "      <td>...</td>\n",
       "      <td>...</td>\n",
       "      <td>...</td>\n",
       "      <td>...</td>\n",
       "      <td>...</td>\n",
       "      <td>...</td>\n",
       "      <td>...</td>\n",
       "    </tr>\n",
       "    <tr>\n",
       "      <th>2018-02-25</th>\n",
       "      <td>1.68</td>\n",
       "      <td>36432.65</td>\n",
       "      <td>246.73</td>\n",
       "      <td>29263.75</td>\n",
       "      <td>0.0</td>\n",
       "      <td>6922.17</td>\n",
       "      <td>6908.84</td>\n",
       "      <td>13.33</td>\n",
       "      <td>0.0</td>\n",
       "      <td>organic</td>\n",
       "      <td>2018</td>\n",
       "      <td>Chicago</td>\n",
       "    </tr>\n",
       "    <tr>\n",
       "      <th>2018-03-04</th>\n",
       "      <td>1.62</td>\n",
       "      <td>46026.58</td>\n",
       "      <td>1107.05</td>\n",
       "      <td>35255.03</td>\n",
       "      <td>0.0</td>\n",
       "      <td>9664.50</td>\n",
       "      <td>9654.50</td>\n",
       "      <td>10.00</td>\n",
       "      <td>0.0</td>\n",
       "      <td>organic</td>\n",
       "      <td>2018</td>\n",
       "      <td>Chicago</td>\n",
       "    </tr>\n",
       "    <tr>\n",
       "      <th>2018-03-11</th>\n",
       "      <td>1.66</td>\n",
       "      <td>41969.83</td>\n",
       "      <td>583.18</td>\n",
       "      <td>32382.95</td>\n",
       "      <td>0.0</td>\n",
       "      <td>9003.70</td>\n",
       "      <td>8990.36</td>\n",
       "      <td>13.34</td>\n",
       "      <td>0.0</td>\n",
       "      <td>organic</td>\n",
       "      <td>2018</td>\n",
       "      <td>Chicago</td>\n",
       "    </tr>\n",
       "    <tr>\n",
       "      <th>2018-03-18</th>\n",
       "      <td>1.66</td>\n",
       "      <td>35542.17</td>\n",
       "      <td>184.53</td>\n",
       "      <td>26955.74</td>\n",
       "      <td>0.0</td>\n",
       "      <td>8401.90</td>\n",
       "      <td>8398.57</td>\n",
       "      <td>3.33</td>\n",
       "      <td>0.0</td>\n",
       "      <td>organic</td>\n",
       "      <td>2018</td>\n",
       "      <td>Chicago</td>\n",
       "    </tr>\n",
       "    <tr>\n",
       "      <th>2018-03-25</th>\n",
       "      <td>1.69</td>\n",
       "      <td>35088.36</td>\n",
       "      <td>324.87</td>\n",
       "      <td>27550.29</td>\n",
       "      <td>0.0</td>\n",
       "      <td>7213.20</td>\n",
       "      <td>7176.54</td>\n",
       "      <td>36.66</td>\n",
       "      <td>0.0</td>\n",
       "      <td>organic</td>\n",
       "      <td>2018</td>\n",
       "      <td>Chicago</td>\n",
       "    </tr>\n",
       "  </tbody>\n",
       "</table>\n",
       "<p>169 rows × 12 columns</p>\n",
       "</div>"
      ],
      "text/plain": [
       "            AveragePrice  Total Volume     4046      4225  4770  Total Bags  \\\n",
       "Date                                                                          \n",
       "2015-01-04          1.49      17723.17  1189.35  15628.27   0.0      905.55   \n",
       "2015-01-11          1.79      12915.74  1426.75  10900.10   0.0      588.89   \n",
       "2015-01-18          1.81      12499.87  1154.81  10830.61   0.0      514.45   \n",
       "2015-01-25          1.83      10951.51   711.63   9515.44   0.0      724.44   \n",
       "2015-02-01          1.52      14391.05  1363.35  11835.47   0.0     1192.23   \n",
       "...                  ...           ...      ...       ...   ...         ...   \n",
       "2018-02-25          1.68      36432.65   246.73  29263.75   0.0     6922.17   \n",
       "2018-03-04          1.62      46026.58  1107.05  35255.03   0.0     9664.50   \n",
       "2018-03-11          1.66      41969.83   583.18  32382.95   0.0     9003.70   \n",
       "2018-03-18          1.66      35542.17   184.53  26955.74   0.0     8401.90   \n",
       "2018-03-25          1.69      35088.36   324.87  27550.29   0.0     7213.20   \n",
       "\n",
       "            Small Bags  Large Bags  XLarge Bags     type  year   region  \n",
       "Date                                                                     \n",
       "2015-01-04      905.55        0.00          0.0  organic  2015  Chicago  \n",
       "2015-01-11      588.89        0.00          0.0  organic  2015  Chicago  \n",
       "2015-01-18      514.45        0.00          0.0  organic  2015  Chicago  \n",
       "2015-01-25      724.44        0.00          0.0  organic  2015  Chicago  \n",
       "2015-02-01     1192.23        0.00          0.0  organic  2015  Chicago  \n",
       "...                ...         ...          ...      ...   ...      ...  \n",
       "2018-02-25     6908.84       13.33          0.0  organic  2018  Chicago  \n",
       "2018-03-04     9654.50       10.00          0.0  organic  2018  Chicago  \n",
       "2018-03-11     8990.36       13.34          0.0  organic  2018  Chicago  \n",
       "2018-03-18     8398.57        3.33          0.0  organic  2018  Chicago  \n",
       "2018-03-25     7176.54       36.66          0.0  organic  2018  Chicago  \n",
       "\n",
       "[169 rows x 12 columns]"
      ]
     },
     "execution_count": 13,
     "metadata": {},
     "output_type": "execute_result"
    }
   ],
   "source": [
    "# Ваш код здесь\n",
    "organic_ch = organic_ch.set_index('Date')\n",
    "organic_ch"
   ]
  },
  {
   "cell_type": "markdown",
   "metadata": {},
   "source": [
    "3. На получившихся данных посчитайте скользящее среднее с окном 4"
   ]
  },
  {
   "cell_type": "markdown",
   "metadata": {},
   "source": [
    "<details>\n",
    "<summary>&#9658; Нажмите сюда, чтобы увидеть подсказку</summary>\n",
    "  <p>\n",
    "      \n",
    "**Как посчитать скользящее среднее, с окном равным 4?** Используйте комбинацию методов: сначала метод `rolling()`, в котором задайте параметр `window` равным 4; а после него - метод `mean`.\n",
    "    \n",
    "**Как использовать комбинацию методов?** Например применим сначала метод `some_method_1()` к серии `series` и зададим параметр `parameter` равным 5, а после него - метод `some_method_2()`:\n",
    "```python\n",
    "series.some_method_1(parameter=5).some_method_2()\n",
    "```   \n",
    "</p>\n",
    "</details>"
   ]
  },
  {
   "cell_type": "code",
   "execution_count": 14,
   "metadata": {},
   "outputs": [
    {
     "data": {
      "text/plain": [
       "Date\n",
       "2015-01-04       NaN\n",
       "2015-01-11       NaN\n",
       "2015-01-18       NaN\n",
       "2015-01-25    1.7300\n",
       "2015-02-01    1.7375\n",
       "               ...  \n",
       "2018-02-25    1.6525\n",
       "2018-03-04    1.6525\n",
       "2018-03-11    1.6550\n",
       "2018-03-18    1.6550\n",
       "2018-03-25    1.6575\n",
       "Name: AveragePrice, Length: 169, dtype: float64"
      ]
     },
     "execution_count": 14,
     "metadata": {},
     "output_type": "execute_result"
    }
   ],
   "source": [
    "# Ваш код здесь\n",
    "roll_price = organic_ch.AveragePrice.rolling(window=4).mean()\n",
    "roll_price"
   ]
  },
  {
   "cell_type": "markdown",
   "metadata": {},
   "source": [
    "4. Получившиеся значения округлите до трех знаков после точки"
   ]
  },
  {
   "cell_type": "markdown",
   "metadata": {},
   "source": [
    "<details>\n",
    "<summary>&#9658; Нажмите сюда, чтобы увидеть подсказку</summary>\n",
    "  <p>\n",
    "\n",
    "Используйте метод `round()`. По умолчанию округление идет до целого числа. Чтобы задать нужное число знаков после точки, передайте в метод аргумент — целое число. Применим метод к серии `series`, задав округление до пяти знаков после точки:\n",
    "```python\n",
    "series.round(5)\n",
    "```\n",
    "</p>\n",
    "</details>"
   ]
  },
  {
   "cell_type": "code",
   "execution_count": 15,
   "metadata": {},
   "outputs": [
    {
     "data": {
      "text/plain": [
       "Date\n",
       "2015-01-04      NaN\n",
       "2015-01-11      NaN\n",
       "2015-01-18      NaN\n",
       "2015-01-25    1.730\n",
       "2015-02-01    1.738\n",
       "              ...  \n",
       "2018-02-25    1.652\n",
       "2018-03-04    1.652\n",
       "2018-03-11    1.655\n",
       "2018-03-18    1.655\n",
       "2018-03-25    1.658\n",
       "Name: AveragePrice, Length: 169, dtype: float64"
      ]
     },
     "execution_count": 15,
     "metadata": {},
     "output_type": "execute_result"
    }
   ],
   "source": [
    "# Ваш код здесь\n",
    "roll_price = roll_price.round(3)\n",
    "roll_price"
   ]
  },
  {
   "cell_type": "markdown",
   "metadata": {},
   "source": [
    "5. Импортируйте модуль `express` из библиотеки `plotly`"
   ]
  },
  {
   "cell_type": "markdown",
   "metadata": {},
   "source": [
    "<details>\n",
    "<summary>&#9658; Нажмите сюда, чтобы увидеть подсказку</summary>\n",
    "<p>\n",
    "      \n",
    "**Для импорта модуля из библиотеки напишите**\n",
    "\n",
    "```python\n",
    "import library.module as shortcut\n",
    "```\n",
    "где вместо `library` подставьте название библиотеки, вместо `module` — название модуля, а вместо `shortcut` — его общераспространённое сокращённое название\n",
    "</p>\n",
    "</details>"
   ]
  },
  {
   "cell_type": "code",
   "execution_count": 19,
   "metadata": {},
   "outputs": [
    {
     "ename": "ModuleNotFoundError",
     "evalue": "No module named 'plotly'",
     "output_type": "error",
     "traceback": [
      "\u001b[0;31m---------------------------------------------------------------------------\u001b[0m",
      "\u001b[0;31mModuleNotFoundError\u001b[0m                       Traceback (most recent call last)",
      "Input \u001b[0;32mIn [19]\u001b[0m, in \u001b[0;36m<module>\u001b[0;34m\u001b[0m\n\u001b[1;32m      1\u001b[0m \u001b[38;5;66;03m# Ваш код здесь\u001b[39;00m\n\u001b[0;32m----> 2\u001b[0m \u001b[38;5;28;01mimport\u001b[39;00m \u001b[38;5;21;01mplotly\u001b[39;00m\u001b[38;5;21;01m.\u001b[39;00m\u001b[38;5;21;01mexpress\u001b[39;00m \u001b[38;5;28;01mas\u001b[39;00m \u001b[38;5;21;01mpx\u001b[39;00m\n",
      "\u001b[0;31mModuleNotFoundError\u001b[0m: No module named 'plotly'"
     ]
    }
   ],
   "source": [
    "# Ваш код здесь\n",
    "import plotly.express as px"
   ]
  },
  {
   "cell_type": "markdown",
   "metadata": {},
   "source": [
    "6. На основе получившихся данных постройте интерактивный линейный график, используя функцию `line()` из модуля `express` библиотеки `plotly`"
   ]
  },
  {
   "cell_type": "markdown",
   "metadata": {},
   "source": [
    "<details>\n",
    "<summary>&#9658; Нажмите сюда, чтобы увидеть подсказку</summary>\n",
    "  <p>\n",
    "      \n",
    "Передайте в функцию `px.line()` округленные данные, получившиеся на 4 шаге выполнения.\n",
    "Пример синтаксиса:      \n",
    "\n",
    "```python\n",
    "px.line(some_data)\n",
    "```      \n",
    "</p>\n",
    "</details>"
   ]
  },
  {
   "cell_type": "code",
   "execution_count": null,
   "metadata": {},
   "outputs": [],
   "source": [
    "# Ваш код здесь\n",
    "\n"
   ]
  },
  {
   "cell_type": "markdown",
   "metadata": {},
   "source": [
    "7. Найдите значения в заданные даты и заполните пропуски"
   ]
  },
  {
   "cell_type": "markdown",
   "metadata": {},
   "source": [
    "<details>\n",
    "<summary>&#9658; Нажмите сюда, чтобы увидеть подсказку</summary>\n",
    "  <p>\n",
    "      \n",
    "Наведите мышку на линию графика в нужную дату, в подписи посмотрите точное искомое значение     \n",
    "</p>\n",
    "</details>"
   ]
  },
  {
   "cell_type": "markdown",
   "metadata": {},
   "source": [
    "## Шаг 8"
   ]
  },
  {
   "cell_type": "markdown",
   "metadata": {},
   "source": [
    "Для ещё большего обобщения информации, чем подсчет скользящих значений, можно использовать разделение значений на группы, интервалы. **С помощью функции `cut()` из библиотеки `pandas` разбейте средние цены (см.колонку `AveragePrice` в датафрейме `organic_ch` с прошлого шага с записями только об органических авокадо в Чикаго) на две группы: те, что больше общего среднего значения по всем этим ценам и те, что не больше (то есть средняя цена будет меньше или равна общему среднему). Определите, каких цен больше.** Для этого:  \n",
    "1) Выведите описательную статистику для колонки со средним ценами и определите минимальное, среднее и максимальное значения.  \n",
    "2) Вместо минимального, возьмите значение, которое будет ниже минимального (насколько ниже — не важно).  \n",
    "3) Сохраните три значения (ниже минимального, среднее и максимальное) в таком же порядке в список `bins` (это будут три границы для двух групп цен (левая граница не включается в группу, а правая включается).  \n",
    "4) Запишите в список `labels` две строки с названиями групп в таком порядке: `меньше или равно среднему` и `больше среднего`.  \n",
    "5) Используя подготовленные списки `bins` и `labels`, с помощью функции `pd.cut()` разбейте значения в колонке `AveragePrice` датафрейма `organic_ch` на группы — и сохраните результат в новую колонку `AveragePrice_label` этого же датафрейма.  \n",
    "6) Посчитайте, каких значений цен больше: тех, что `меньше или равно среднему`, или тех, что `больше среднего`."
   ]
  },
  {
   "cell_type": "markdown",
   "metadata": {},
   "source": [
    "Шаги выполнения:  \n",
    "1. Выведите описательную статистику для колонки `AveragePrice` в датафрейме `organic_ch` и определите минимальное, среднее и максимальное значения  "
   ]
  },
  {
   "cell_type": "markdown",
   "metadata": {},
   "source": [
    "<details>\n",
    "<summary>&#9658; Нажмите сюда, чтобы увидеть подсказку</summary>\n",
    "  <p>\n",
    "      \n",
    "**Как получить описательную статистику?** Примените к колонке датафрейма метод `describe()`.\n",
    "      \n",
    "**Как использовать метод?** Например применим метод `some_method()` к колонке `col_name` датафрейма `df`:\n",
    "```python\n",
    "df.col_name.some_method()\n",
    "```\n",
    "</p>\n",
    "</details>"
   ]
  },
  {
   "cell_type": "code",
   "execution_count": 22,
   "metadata": {},
   "outputs": [
    {
     "data": {
      "text/plain": [
       "count    169.000000\n",
       "mean       1.744201\n",
       "std        0.225277\n",
       "min        1.080000\n",
       "25%        1.600000\n",
       "50%        1.680000\n",
       "75%        1.920000\n",
       "max        2.300000\n",
       "Name: AveragePrice, dtype: float64"
      ]
     },
     "execution_count": 22,
     "metadata": {},
     "output_type": "execute_result"
    }
   ],
   "source": [
    "# Ваш код здесь\n",
    "organic_ch.AveragePrice.describe()\n"
   ]
  },
  {
   "cell_type": "markdown",
   "metadata": {},
   "source": [
    "2. Сохраните три значения (ниже минимального, среднее и максимальное) в таком же порядке в список `bins`"
   ]
  },
  {
   "cell_type": "markdown",
   "metadata": {},
   "source": [
    "<details>\n",
    "<summary>&#9658; Нажмите сюда, чтобы увидеть подсказку</summary>\n",
    "  <p>\n",
    "      \n",
    "**Как сохранить значения в список?** Например:\n",
    "```python\n",
    "new_list = [1, 'some_string']\n",
    "```\n",
    "Обратите внимание, что числа пишутся без кавычек, а строки - в кавычках\n",
    "</p>\n",
    "</details>"
   ]
  },
  {
   "cell_type": "code",
   "execution_count": 23,
   "metadata": {},
   "outputs": [],
   "source": [
    "# Ваш код здесь\n",
    "bins = [1.080000, 1.744201, 2.300000]\n"
   ]
  },
  {
   "cell_type": "markdown",
   "metadata": {},
   "source": [
    "3. Запишите в список `labels` две строки с названиями групп в таком порядке: `меньше или равно среднему` (можно назвать `less than or equal to average`) и `больше среднего` (можно назвать `more than average`)"
   ]
  },
  {
   "cell_type": "markdown",
   "metadata": {},
   "source": [
    "<details>\n",
    "<summary>&#9658; Нажмите сюда, чтобы увидеть подсказку</summary>\n",
    "  <p>\n",
    "      \n",
    "**Как сохранить значения в список?** Например:\n",
    "```python\n",
    "new_list = [1, 'some_string']\n",
    "```\n",
    "Обратите внимание, что числа пишутся без кавычек, а строки - в кавычках\n",
    "</p>\n",
    "</details>"
   ]
  },
  {
   "cell_type": "code",
   "execution_count": 24,
   "metadata": {},
   "outputs": [],
   "source": [
    "# Ваш код здесь\n",
    "labels = ['less_then_or_equal_to_average', 'more_than_average']\n"
   ]
  },
  {
   "cell_type": "markdown",
   "metadata": {},
   "source": [
    "4. С помощью функции `pd.cut()` разбейте значения средних цен на группы. В функцию подайте колонку `AveragePrice` датафрейма `organic_ch`, а также задайте параметры `bins` и `labels`, используя соответствующие списки. Сохраните результат в новую колонку `AveragePrice_label` этого же датафрейма"
   ]
  },
  {
   "cell_type": "markdown",
   "metadata": {},
   "source": [
    "<details>\n",
    "<summary>&#9658; Нажмите сюда, чтобы увидеть подсказку</summary>\n",
    "  <p>\n",
    "      \n",
    "Передайте в функцию `pd.cut()` колонку `AveragePrice` датафрейма `organic_ch` и задайте параметр `bins` равным списку `bins`, а параметр `labels` равным списку `labels`. Результат сохраните в новую колонку `AveragePrice_label` этого же датафрейма.\n",
    "      \n",
    "Пример синтаксиса:      \n",
    "\n",
    "```python\n",
    "df['new_col'] = pd.some_function(df.col_name, some_parameter=some_list)\n",
    "```      \n",
    "</p>\n",
    "</details>"
   ]
  },
  {
   "cell_type": "code",
   "execution_count": 26,
   "metadata": {},
   "outputs": [],
   "source": [
    "# Ваш код здесь\n",
    "organic_ch['AveragePrice_label'] = pd.cut(organic_ch.AveragePrice, bins = bins, labels = labels)"
   ]
  },
  {
   "cell_type": "markdown",
   "metadata": {},
   "source": [
    "5. Посчитайте количество записей, относящихся к каждой из двух получившихся в колонке `AveragePrice_label` групп"
   ]
  },
  {
   "cell_type": "markdown",
   "metadata": {},
   "source": [
    "<details>\n",
    "<summary>&#9658; Нажмите сюда, чтобы увидеть подсказку</summary>\n",
    "  <p>\n",
    "\n",
    "**Используйте метод `value_counts()`**, применив его к столбцу `AveragePrice_label` датафрейма `organic_ch`. Этот метод возвращает серию, где индексы — это уникальные значения из столбца, а значения — это число их встречаний (количество строк с таким значением).\n",
    "      \n",
    "**Как использовать метод?** Например применим метод `some_method()` к колонке `column_name` датафрейма `df`:\n",
    "```python\n",
    "df.column_name.some_method()\n",
    "```\n",
    "</p>\n",
    "</details>"
   ]
  },
  {
   "cell_type": "code",
   "execution_count": 27,
   "metadata": {},
   "outputs": [
    {
     "data": {
      "text/plain": [
       "AveragePrice_label\n",
       "less_then_or_equal_to_average    94\n",
       "more_than_average                74\n",
       "Name: count, dtype: int64"
      ]
     },
     "execution_count": 27,
     "metadata": {},
     "output_type": "execute_result"
    }
   ],
   "source": [
    "# Ваш код здесь\n",
    "organic_ch.AveragePrice_label.value_counts()\n"
   ]
  },
  {
   "cell_type": "markdown",
   "metadata": {},
   "source": [
    "6. Посмотрите на результат подсчета и определите, каких значений цен (записей) больше: тех, что `меньше или равно среднему`, или тех, что `больше среднего`"
   ]
  },
  {
   "cell_type": "markdown",
   "metadata": {},
   "source": [
    "## Итоги"
   ]
  },
  {
   "cell_type": "markdown",
   "metadata": {},
   "source": [
    "В этом уроке вы исследовали тренды цен на авокадо и проанализировали средние значения, используя оконные функции (скользящее среднее и экспоненциальное скользящее среднее) и интерактивные графики, а также потренировались преобразовывать числовую переменную в категориальную, чтобы поделить значения на группы"
   ]
  }
 ],
 "metadata": {
  "kernelspec": {
   "display_name": "Python 3 (ipykernel)",
   "language": "python",
   "name": "python3"
  },
  "language_info": {
   "codemirror_mode": {
    "name": "ipython",
    "version": 3
   },
   "file_extension": ".py",
   "mimetype": "text/x-python",
   "name": "python",
   "nbconvert_exporter": "python",
   "pygments_lexer": "ipython3",
   "version": "3.8.10"
  }
 },
 "nbformat": 4,
 "nbformat_minor": 4
}
