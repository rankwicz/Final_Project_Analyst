{
 "cells": [
  {
   "cell_type": "markdown",
   "metadata": {},
   "source": [
    "Задание 1\n",
    "Retention – один из самых важных показателей в компании.\n",
    "Ваша задача – написать функцию, которая будет считать retention игроков (по дням от даты регистрации игрока)."
   ]
  },
  {
   "cell_type": "code",
   "execution_count": 7,
   "metadata": {},
   "outputs": [],
   "source": [
    "import pandas as pd\n",
    "\n",
    "def g_retention(reg_path, auth_path):\n",
    "\n",
    "    reg_df = pd.read_csv(reg_path, sep=';', encoding='utf-8-sig')\n",
    "    auth_df = pd.read_csv(auth_path, sep=';', encoding='utf-8-sig')\n",
    "\n",
    "    # Преобразуем в datetime\n",
    "    reg_df['reg_ts'] = pd.to_datetime(reg_df['reg_ts'], unit='s')\n",
    "    auth_df['auth_ts'] = pd.to_datetime(auth_df['auth_ts'], unit='s')\n",
    "\n",
    "    # Объединяем по uid\n",
    "    merged = auth_df.merge(reg_df, on='uid', how='left')\n",
    "\n",
    "    # Считаем количество дней между регистрацией и авторизацией\n",
    "    merged['day'] = (merged['auth_ts'] - merged['reg_ts']).dt.days\n",
    "\n",
    "    # Оставим только положительные дни\n",
    "    merged = merged[merged['day'] >= 0]\n",
    "\n",
    "    # Считаем retention\n",
    "    retention = (\n",
    "        merged.groupby(['reg_ts', 'day'])['uid']\n",
    "        .nunique()\n",
    "        .reset_index()\n",
    "        .rename(columns={'uid': 'retained_users'})\n",
    "    )\n",
    "\n",
    "    # Считаем, сколько было регистраций в каждый день\n",
    "    reg_counts = reg_df.groupby('reg_ts')['uid'].nunique().reset_index()\n",
    "    reg_counts = reg_counts.rename(columns={'uid': 'registered_users'})\n",
    "\n",
    "    # Объединяем с retention\n",
    "    retention = retention.merge(reg_counts, on='reg_ts')\n",
    "\n",
    "    # Добавим колонку retention rate\n",
    "    retention['retention'] = retention['retained_users'] / retention['registered_users']\n",
    "\n",
    "    return retention\n",
    "\n"
   ]
  },
  {
   "cell_type": "code",
   "execution_count": 9,
   "metadata": {},
   "outputs": [
    {
     "name": "stdout",
     "output_type": "stream",
     "text": [
      "                     reg_ts  day  retained_users  registered_users  retention\n",
      "0       1998-11-18 09:43:43    0               1                 1        1.0\n",
      "1       1999-07-22 22:38:09    0               1                 1        1.0\n",
      "2       1999-07-22 22:38:09    2               1                 1        1.0\n",
      "3       1999-07-22 22:38:09    8               1                 1        1.0\n",
      "4       1999-07-22 22:38:09   13               1                 1        1.0\n",
      "...                     ...  ...             ...               ...        ...\n",
      "9601008 2020-09-23 15:13:54    0               1                 1        1.0\n",
      "9601009 2020-09-23 15:14:46    0               1                 1        1.0\n",
      "9601010 2020-09-23 15:15:39    0               1                 1        1.0\n",
      "9601011 2020-09-23 15:16:31    0               1                 1        1.0\n",
      "9601012 2020-09-23 15:17:24    0               1                 1        1.0\n",
      "\n",
      "[9601013 rows x 5 columns]\n"
     ]
    }
   ],
   "source": [
    "result_df = g_retention('~/shared/problem1-reg_data.csv', '~/shared/problem1-auth_data.csv')\n",
    "print(result_df)"
   ]
  },
  {
   "cell_type": "code",
   "execution_count": null,
   "metadata": {},
   "outputs": [],
   "source": []
  },
  {
   "cell_type": "markdown",
   "metadata": {},
   "source": [
    "Задание 2\n",
    "Имеются результаты A/B теста,\n",
    "в котором двум группам пользователей предлагались различные наборы акционных предложений.\n",
    "Известно, что ARPU в тестовой группе выше на 5%, чем в контрольной. \n",
    "При этом в контрольной группе 1928 игроков из 202103 оказались платящими, а в тестовой – 1805 из 202667.\n",
    "\n",
    "Какой набор предложений можно считать лучшим? \n",
    "Какие метрики стоит проанализировать для принятия правильного решения и как?"
   ]
  },
  {
   "cell_type": "code",
   "execution_count": 11,
   "metadata": {},
   "outputs": [],
   "source": [
    "newdf = pd.read_csv('/mnt/HC_Volume_18315164/home-jupyter/jupyter-ro-a/Last_rarce/Проект_1_Задание_2.csv', sep=';')"
   ]
  },
  {
   "cell_type": "code",
   "execution_count": 12,
   "metadata": {},
   "outputs": [
    {
     "data": {
      "text/html": [
       "<div>\n",
       "<style scoped>\n",
       "    .dataframe tbody tr th:only-of-type {\n",
       "        vertical-align: middle;\n",
       "    }\n",
       "\n",
       "    .dataframe tbody tr th {\n",
       "        vertical-align: top;\n",
       "    }\n",
       "\n",
       "    .dataframe thead th {\n",
       "        text-align: right;\n",
       "    }\n",
       "</style>\n",
       "<table border=\"1\" class=\"dataframe\">\n",
       "  <thead>\n",
       "    <tr style=\"text-align: right;\">\n",
       "      <th></th>\n",
       "      <th>user_id</th>\n",
       "      <th>revenue</th>\n",
       "      <th>testgroup</th>\n",
       "    </tr>\n",
       "  </thead>\n",
       "  <tbody>\n",
       "    <tr>\n",
       "      <th>0</th>\n",
       "      <td>1</td>\n",
       "      <td>0</td>\n",
       "      <td>b</td>\n",
       "    </tr>\n",
       "    <tr>\n",
       "      <th>1</th>\n",
       "      <td>2</td>\n",
       "      <td>0</td>\n",
       "      <td>a</td>\n",
       "    </tr>\n",
       "    <tr>\n",
       "      <th>2</th>\n",
       "      <td>3</td>\n",
       "      <td>0</td>\n",
       "      <td>a</td>\n",
       "    </tr>\n",
       "    <tr>\n",
       "      <th>3</th>\n",
       "      <td>4</td>\n",
       "      <td>0</td>\n",
       "      <td>b</td>\n",
       "    </tr>\n",
       "    <tr>\n",
       "      <th>4</th>\n",
       "      <td>5</td>\n",
       "      <td>0</td>\n",
       "      <td>b</td>\n",
       "    </tr>\n",
       "  </tbody>\n",
       "</table>\n",
       "</div>"
      ],
      "text/plain": [
       "   user_id  revenue testgroup\n",
       "0        1        0         b\n",
       "1        2        0         a\n",
       "2        3        0         a\n",
       "3        4        0         b\n",
       "4        5        0         b"
      ]
     },
     "execution_count": 12,
     "metadata": {},
     "output_type": "execute_result"
    }
   ],
   "source": [
    "newdf.head()"
   ]
  },
  {
   "cell_type": "code",
   "execution_count": 13,
   "metadata": {},
   "outputs": [],
   "source": [
    "# Группируем по 2 группам\n",
    "board = newdf.groupby('testgroup', as_index=False).agg({'user_id':'count', 'revenue':'sum'})"
   ]
  },
  {
   "cell_type": "code",
   "execution_count": 14,
   "metadata": {},
   "outputs": [
    {
     "data": {
      "text/html": [
       "<div>\n",
       "<style scoped>\n",
       "    .dataframe tbody tr th:only-of-type {\n",
       "        vertical-align: middle;\n",
       "    }\n",
       "\n",
       "    .dataframe tbody tr th {\n",
       "        vertical-align: top;\n",
       "    }\n",
       "\n",
       "    .dataframe thead th {\n",
       "        text-align: right;\n",
       "    }\n",
       "</style>\n",
       "<table border=\"1\" class=\"dataframe\">\n",
       "  <thead>\n",
       "    <tr style=\"text-align: right;\">\n",
       "      <th></th>\n",
       "      <th>testgroup</th>\n",
       "      <th>user_id</th>\n",
       "      <th>revenue</th>\n",
       "    </tr>\n",
       "  </thead>\n",
       "  <tbody>\n",
       "    <tr>\n",
       "      <th>0</th>\n",
       "      <td>a</td>\n",
       "      <td>202103</td>\n",
       "      <td>5136189</td>\n",
       "    </tr>\n",
       "    <tr>\n",
       "      <th>1</th>\n",
       "      <td>b</td>\n",
       "      <td>202667</td>\n",
       "      <td>5421603</td>\n",
       "    </tr>\n",
       "  </tbody>\n",
       "</table>\n",
       "</div>"
      ],
      "text/plain": [
       "  testgroup  user_id  revenue\n",
       "0         a   202103  5136189\n",
       "1         b   202667  5421603"
      ]
     },
     "execution_count": 14,
     "metadata": {},
     "output_type": "execute_result"
    }
   ],
   "source": [
    "board.head()"
   ]
  },
  {
   "cell_type": "code",
   "execution_count": 16,
   "metadata": {},
   "outputs": [],
   "source": [
    "# Добавляем платящих пользователей \n",
    "board['pay_users'] = [1928, 1805]"
   ]
  },
  {
   "cell_type": "code",
   "execution_count": 17,
   "metadata": {},
   "outputs": [],
   "source": [
    "# Добавим колонку CR\n",
    "board['CR'] = round((board.pay_users/board.user_id).mul(100),2)"
   ]
  },
  {
   "cell_type": "code",
   "execution_count": 18,
   "metadata": {},
   "outputs": [],
   "source": [
    "# Добавим колонку ARPU - средний доход от одного пользователя\n",
    "board['ARPU'] = round(board.revenue/board.user_id,2)"
   ]
  },
  {
   "cell_type": "code",
   "execution_count": 19,
   "metadata": {},
   "outputs": [],
   "source": [
    "# Добавим колонку ARPPU (ARPU/ CR, то есть сколько тратит один платящий пользователь)\n",
    "board['ARPPU'] = round(board.ARPU/board.CR,2)"
   ]
  },
  {
   "cell_type": "code",
   "execution_count": 20,
   "metadata": {},
   "outputs": [
    {
     "data": {
      "text/html": [
       "<div>\n",
       "<style scoped>\n",
       "    .dataframe tbody tr th:only-of-type {\n",
       "        vertical-align: middle;\n",
       "    }\n",
       "\n",
       "    .dataframe tbody tr th {\n",
       "        vertical-align: top;\n",
       "    }\n",
       "\n",
       "    .dataframe thead th {\n",
       "        text-align: right;\n",
       "    }\n",
       "</style>\n",
       "<table border=\"1\" class=\"dataframe\">\n",
       "  <thead>\n",
       "    <tr style=\"text-align: right;\">\n",
       "      <th></th>\n",
       "      <th>testgroup</th>\n",
       "      <th>user_id</th>\n",
       "      <th>revenue</th>\n",
       "      <th>pay_users</th>\n",
       "      <th>CR</th>\n",
       "      <th>ARPU</th>\n",
       "      <th>ARPPU</th>\n",
       "    </tr>\n",
       "  </thead>\n",
       "  <tbody>\n",
       "    <tr>\n",
       "      <th>0</th>\n",
       "      <td>a</td>\n",
       "      <td>202103</td>\n",
       "      <td>5136189</td>\n",
       "      <td>1928</td>\n",
       "      <td>0.95</td>\n",
       "      <td>25.41</td>\n",
       "      <td>26.75</td>\n",
       "    </tr>\n",
       "    <tr>\n",
       "      <th>1</th>\n",
       "      <td>b</td>\n",
       "      <td>202667</td>\n",
       "      <td>5421603</td>\n",
       "      <td>1805</td>\n",
       "      <td>0.89</td>\n",
       "      <td>26.75</td>\n",
       "      <td>30.06</td>\n",
       "    </tr>\n",
       "  </tbody>\n",
       "</table>\n",
       "</div>"
      ],
      "text/plain": [
       "  testgroup  user_id  revenue  pay_users    CR   ARPU  ARPPU\n",
       "0         a   202103  5136189       1928  0.95  25.41  26.75\n",
       "1         b   202667  5421603       1805  0.89  26.75  30.06"
      ]
     },
     "execution_count": 20,
     "metadata": {},
     "output_type": "execute_result"
    }
   ],
   "source": [
    "board"
   ]
  },
  {
   "cell_type": "code",
   "execution_count": 21,
   "metadata": {},
   "outputs": [
    {
     "name": "stdout",
     "output_type": "stream",
     "text": [
      "ARPPU в тесте выше на 12.37% — пользователи, которые платят, платят больше\n",
      "ARPU в тесте выше на 5.27%\n",
      "CR в тесте ниже на 6.32%\n"
     ]
    }
   ],
   "source": [
    "arppu = round((board.ARPPU[1]-board.ARPPU[0])/board.ARPPU[0]*(100),2)\n",
    "arpu = round(((board.ARPU[1]-board.ARPU[0])/board.ARPU[0]*100),2)\n",
    "cr = round((board.CR[1]-board.CR[0])/board.CR[0]*(-100),2)\n",
    "\n",
    "print(f'ARPPU в тесте выше на {arppu}% — пользователи, которые платят, платят больше')\n",
    "print(f'ARPU в тесте выше на {arpu}%')\n",
    "print(f'CR в тесте ниже на {cr}%')"
   ]
  },
  {
   "cell_type": "markdown",
   "metadata": {},
   "source": [
    "-------"
   ]
  },
  {
   "cell_type": "markdown",
   "metadata": {},
   "source": [
    "\n",
    "\n",
    "\n"
   ]
  },
  {
   "cell_type": "markdown",
   "metadata": {},
   "source": [
    "Проверка ARPPU\n",
    "\n",
    "Для ARPPU применён t-тест, но только среди платящих пользователей, так как:\n",
    "1. Мы анализируем средние значения выручки среди платящих (то есть отфильтрованы 'revenue > 0').\n",
    "2. Выборки по-прежнему независимы.\n",
    "3. Переменная остаётся числовой и непрерывной.\n",
    "4. Проверяется, есть ли разница в среднем чеке платящего пользователя."
   ]
  },
  {
   "cell_type": "markdown",
   "metadata": {},
   "source": [
    "Гипотезы для ARPPU (доход на одного платящего)\n",
    "\n",
    "H0 - ARPPU в группах равны\n",
    "\n",
    "H1 - ARPPU в группах различаются"
   ]
  },
  {
   "cell_type": "code",
   "execution_count": 95,
   "metadata": {
    "scrolled": true
   },
   "outputs": [
    {
     "data": {
      "text/html": [
       "<div>\n",
       "<style scoped>\n",
       "    .dataframe tbody tr th:only-of-type {\n",
       "        vertical-align: middle;\n",
       "    }\n",
       "\n",
       "    .dataframe tbody tr th {\n",
       "        vertical-align: top;\n",
       "    }\n",
       "\n",
       "    .dataframe thead th {\n",
       "        text-align: right;\n",
       "    }\n",
       "</style>\n",
       "<table border=\"1\" class=\"dataframe\">\n",
       "  <thead>\n",
       "    <tr style=\"text-align: right;\">\n",
       "      <th></th>\n",
       "      <th>T</th>\n",
       "      <th>dof</th>\n",
       "      <th>alternative</th>\n",
       "      <th>p-val</th>\n",
       "      <th>CI95%</th>\n",
       "      <th>cohen-d</th>\n",
       "      <th>BF10</th>\n",
       "      <th>power</th>\n",
       "    </tr>\n",
       "  </thead>\n",
       "  <tbody>\n",
       "    <tr>\n",
       "      <th>T-test</th>\n",
       "      <td>-1.64463</td>\n",
       "      <td>1943.481522</td>\n",
       "      <td>two-sided</td>\n",
       "      <td>0.100208</td>\n",
       "      <td>[-744.7, 65.38]</td>\n",
       "      <td>0.052132</td>\n",
       "      <td>0.142</td>\n",
       "      <td>0.356381</td>\n",
       "    </tr>\n",
       "  </tbody>\n",
       "</table>\n",
       "</div>"
      ],
      "text/plain": [
       "              T          dof alternative     p-val            CI95%   cohen-d  \\\n",
       "T-test -1.64463  1943.481522   two-sided  0.100208  [-744.7, 65.38]  0.052132   \n",
       "\n",
       "         BF10     power  \n",
       "T-test  0.142  0.356381  "
      ]
     },
     "execution_count": 95,
     "metadata": {},
     "output_type": "execute_result"
    }
   ],
   "source": [
    "import pingouin as pg\n",
    "\n",
    "# Платящие пользователи\n",
    "revenue_a_pay = newdf[(newdf[\"testgroup\"] == \"a\") & (newdf[\"revenue\"] > 0)][\"revenue\"]\n",
    "revenue_b_pay = newdf[(newdf[\"testgroup\"] == \"b\") & (newdf[\"revenue\"] > 0)][\"revenue\"]\n",
    "\n",
    "# T-тест для ARPPU\n",
    "ttest_arppu = pg.ttest(revenue_a_pay, revenue_b_pay)\n",
    "ttest_arppu"
   ]
  },
  {
   "cell_type": "markdown",
   "metadata": {},
   "source": [
    "Хотя ARPPU в тестовой группе визуально выше (30.06 против 26.75), мы не отвергаем нулевую гипотезу Н0, разница не является статистически значимой (p = 0.10)"
   ]
  },
  {
   "cell_type": "markdown",
   "metadata": {},
   "source": [
    "----\n"
   ]
  },
  {
   "cell_type": "markdown",
   "metadata": {},
   "source": [
    "Проверка ARPU\n",
    "Для сравнения ARPU между двумя группами был применён t-тест для независимых выборок, потому что:\n",
    "- Переменная \"выручка на пользователя\" является непрерывной\n",
    "- Группы независимы (разные пользователи).\n",
    "- Мы хотим проверить различие средних значений"
   ]
  },
  {
   "cell_type": "markdown",
   "metadata": {},
   "source": [
    "Формулировка гипотез ARPU (доход на пользователя)\n",
    "\n",
    "H0 - ARPU в группах равны\n",
    "\n",
    "H1 - ARPU в группах различаются"
   ]
  },
  {
   "cell_type": "code",
   "execution_count": 89,
   "metadata": {},
   "outputs": [
    {
     "data": {
      "text/html": [
       "<div>\n",
       "<style scoped>\n",
       "    .dataframe tbody tr th:only-of-type {\n",
       "        vertical-align: middle;\n",
       "    }\n",
       "\n",
       "    .dataframe tbody tr th {\n",
       "        vertical-align: top;\n",
       "    }\n",
       "\n",
       "    .dataframe thead th {\n",
       "        text-align: right;\n",
       "    }\n",
       "</style>\n",
       "<table border=\"1\" class=\"dataframe\">\n",
       "  <thead>\n",
       "    <tr style=\"text-align: right;\">\n",
       "      <th></th>\n",
       "      <th>T</th>\n",
       "      <th>dof</th>\n",
       "      <th>alternative</th>\n",
       "      <th>p-val</th>\n",
       "      <th>CI95%</th>\n",
       "      <th>cohen-d</th>\n",
       "      <th>BF10</th>\n",
       "      <th>power</th>\n",
       "    </tr>\n",
       "  </thead>\n",
       "  <tbody>\n",
       "    <tr>\n",
       "      <th>T-test</th>\n",
       "      <td>-0.624203</td>\n",
       "      <td>404768</td>\n",
       "      <td>two-sided</td>\n",
       "      <td>0.532495</td>\n",
       "      <td>[-5.54, 2.86]</td>\n",
       "      <td>0.001962</td>\n",
       "      <td>0.004</td>\n",
       "      <td>0.095694</td>\n",
       "    </tr>\n",
       "  </tbody>\n",
       "</table>\n",
       "</div>"
      ],
      "text/plain": [
       "               T     dof alternative     p-val          CI95%   cohen-d  \\\n",
       "T-test -0.624203  404768   two-sided  0.532495  [-5.54, 2.86]  0.001962   \n",
       "\n",
       "         BF10     power  \n",
       "T-test  0.004  0.095694  "
      ]
     },
     "execution_count": 89,
     "metadata": {},
     "output_type": "execute_result"
    }
   ],
   "source": [
    "# T-тест для ARPU\n",
    "revenue_a = newdf[newdf[\"testgroup\"] == \"a\"][\"revenue\"]\n",
    "revenue_b = newdf[newdf[\"testgroup\"] == \"b\"][\"revenue\"]\n",
    "pg.ttest(revenue_a, revenue_b, correction=False)"
   ]
  },
  {
   "cell_type": "markdown",
   "metadata": {},
   "source": [
    "ARPU в тестовой группе выше на 5%, но p-value слишком высокое (0.53) — мы не можем с уверенностью сказать, что эта разница не случайна, то есть статистически значимой разницы в ARPU нет, а значит не отвергаем H0"
   ]
  },
  {
   "cell_type": "markdown",
   "metadata": {
    "scrolled": true
   },
   "source": [
    "---"
   ]
  },
  {
   "cell_type": "markdown",
   "metadata": {},
   "source": [
    "Проверка CR\n",
    "\n",
    "Для проверки разницы в долях платящих пользователей между группами был выбран Z-тест для пропорций ('proportions_ztest'), так как:\n",
    "1. Исходные данные — это доли успехов (платящих пользователей) в двух независимых группах.\n",
    "2. Размеры выборок достаточно большие (>200 000), что удовлетворяет требованиям нормального распределения.\n",
    "3. Метод позволяет проверить, есть ли статистически значимая разница в конверсии между группами."
   ]
  },
  {
   "cell_type": "markdown",
   "metadata": {},
   "source": [
    "Формулировка гипотез CR (конверсия в покупку)\n",
    "\n",
    "H0 - Конверсия в группах равна\n",
    "\n",
    "H1 - Конверсии различаются"
   ]
  },
  {
   "cell_type": "code",
   "execution_count": 94,
   "metadata": {},
   "outputs": [
    {
     "name": "stdout",
     "output_type": "stream",
     "text": [
      "z-stat: 2.108028495889841\n",
      "p-value: 0.035028524642854865\n"
     ]
    }
   ],
   "source": [
    "paying_a = int(board[board['testgroup'] == 'a']['pay_users'])\n",
    "paying_b = int(board[board['testgroup'] == 'b']['pay_users'])\n",
    "total_a = int(board[board[\"testgroup\"] == \"a\"][\"user_id\"])\n",
    "total_b = int(board[board[\"testgroup\"] == \"b\"][\"user_id\"])\n",
    "\n",
    "from statsmodels.stats.proportion import proportions_ztest\n",
    "\n",
    "successes = [paying_a, paying_b]\n",
    "totals = [total_a, total_b]\n",
    "\n",
    "z_stat, p_val = proportions_ztest(successes, totals)\n",
    "print(\"z-stat:\", z_stat)\n",
    "print(\"p-value:\", p_val)"
   ]
  },
  {
   "cell_type": "markdown",
   "metadata": {},
   "source": [
    "Результат: p = 0.035 - отвергаем H0 - тестовая группа показывает статистически хуже CR."
   ]
  },
  {
   "cell_type": "markdown",
   "metadata": {},
   "source": [
    "---"
   ]
  },
  {
   "cell_type": "markdown",
   "metadata": {},
   "source": [
    "**Вывод по результатам A/B-теста**\n",
    "\n",
    "\n",
    "Метрика ARPPU (доход от платящего пользователя)\n",
    "\n",
    "1. ARPPU в тестовой группе визуально выше (30.06 против 26.75) \n",
    "2. Разница не является статистически значимой (p = 0.10)\n",
    "3. То есть мы не можем утверждать, что тест влияет на ARPPU\n",
    "\n",
    "Метрика ARPU (доход от пользователя):\n",
    "1. ARPU в тестовой группе выше на 5% по сравнению с контрольной\n",
    "2. Однако, по результатам t-теста (p-value = 0.53), эта разница не является статистически значимой\n",
    "3. Следовательно, рост ARPU мог возникнуть случайно\n",
    "\n",
    "Метрика CR (конверсия в покупку):\n",
    "1. CR в тестовой группе ниже (0.89% против 0.95%)\n",
    "2. Z-тест показал, что разница статистически значимая (p-value = 0.035)\n",
    "3. Это значит, что тестовый набор акций снижает конверсию\n",
    "\n",
    "\n",
    "Рекомендация:\n",
    "\n",
    "1. Оставить текущие (контрольные) акционные предложения — они дают стабильный результат по ARPU и не ухудшают конверсию.\n",
    "\n",
    "2. Тестовый вариант не стоит внедрять, так как он не даёт значимого роста дохода и снижает CR."
   ]
  },
  {
   "cell_type": "markdown",
   "metadata": {},
   "source": [
    "---"
   ]
  },
  {
   "cell_type": "markdown",
   "metadata": {},
   "source": [
    "---"
   ]
  },
  {
   "cell_type": "markdown",
   "metadata": {},
   "source": [
    "---"
   ]
  },
  {
   "cell_type": "markdown",
   "metadata": {},
   "source": [
    "**Задание 3**\n",
    "\n",
    "**В игре Plants & Gardens каждый месяц проводятся тематические события, ограниченные по времени. В них игроки могут получить уникальные предметы для сада и персонажей, дополнительные монеты или бонусы. Для получения награды требуется пройти ряд уровней за определенное время. С помощью каких метрик можно оценить результаты последнего прошедшего события?**\n",
    "\n",
    "**Предположим, в другом событии мы усложнили механику событий так, что при каждой неудачной попытке выполнения уровня игрок будет откатываться на несколько уровней назад. Изменится ли набор метрик оценки результата? Если да, то как?**\n",
    "\n"
   ]
  },
  {
   "cell_type": "markdown",
   "metadata": {},
   "source": [
    "--------------\n"
   ]
  },
  {
   "cell_type": "markdown",
   "metadata": {},
   "source": [
    "**С помощью каких метрик можно оценить результаты последнего прошедшего события?**"
   ]
  },
  {
   "cell_type": "markdown",
   "metadata": {},
   "source": [
    "Метрики вовлечённости игроков\n",
    "1. Количество участников события\n",
    "2. Процент активных игроков\n",
    "3. Среднее количество пройденных уровней в событии\n",
    "4. Процент игроков, успешно завершивших все уровни события\n",
    "5. Среднее время прохождения события\n",
    "\n",
    "Метрики удержания и повторного вовлечения\n",
    "1. Retention после события\n",
    "2. Процент игроков, вернувшихся ради события\n",
    "\n",
    "Метрики экономики и монетизации\n",
    "1. Среднее количество заработанных монет/бонусов за событие\n",
    "2. Влияние события на внутриигровую экономику\n",
    "3. Процент игроков, совершивших внутриигровые покупки в период события\n",
    "\n",
    "Метрики пользовательского опыта\n",
    "1. Среднее количество попыток на уровне события\n",
    "2. Отказы от участия в событии (drop-off points)\n",
    "3. Отзывы и оценки игроков\n",
    "\n",
    "Технические метрики\n",
    "1. Количество багов/сбоев, связанных с событием\n",
    "2. Среднее время отклика/загрузки уровней события\n",
    "\n"
   ]
  },
  {
   "cell_type": "markdown",
   "metadata": {},
   "source": [
    "------------------"
   ]
  },
  {
   "cell_type": "markdown",
   "metadata": {},
   "source": [
    "---"
   ]
  },
  {
   "cell_type": "markdown",
   "metadata": {},
   "source": [
    "**Предположим, в другом событии мы усложнили механику событий так, что при каждой неудачной попытке выполнения уровня игрок будет откатываться на несколько уровней назад. Изменится ли набор метрик оценки результата? Если да, то как?**"
   ]
  },
  {
   "cell_type": "markdown",
   "metadata": {},
   "source": [
    "Да, набор метрик оценки результата в этом случае стоит дополнить, потому что усложнённая механика (откат назад при неудаче) будет влиять на поведение игроков, их мотивацию, удержание и эмоциональную реакцию."
   ]
  },
  {
   "cell_type": "markdown",
   "metadata": {},
   "source": [
    "Новые/дополнительные метрики\n",
    "1. Cложность\n",
    "\n",
    "\n",
    "- Среднее количество откатов на игрока\n",
    "\n",
    "\n",
    "- Максимальный откат\n",
    "(Сколько уровней игроки в среднем теряли за неудачную попытку)\n",
    "\n",
    "\n",
    "- Процент игроков, бросивших событие после отката\n",
    "\n",
    "\n",
    "- Частота выхода из игры после отката\n",
    "\n"
   ]
  },
  {
   "cell_type": "markdown",
   "metadata": {},
   "source": [
    "2. Прохождение и прогресс\n",
    "\n",
    "\n",
    "- Средний прогресс по уровням с учётом откатов\n",
    "\n",
    "\n",
    "- Среднее число попыток на один и тот же уровень\n",
    "\n",
    "\n",
    "- Процент игроков, вернувшихся после отката\n",
    "\n"
   ]
  },
  {
   "cell_type": "markdown",
   "metadata": {},
   "source": [
    "3. Метрики монетизации\n",
    "\n",
    "\n",
    "- Рост трат на бустеры/попытки\n",
    "\n",
    "\n",
    "- Платежеспособность игроков после откатов\n",
    "(нужно ли платить чтобы не откатываться назад)"
   ]
  },
  {
   "cell_type": "markdown",
   "metadata": {},
   "source": [
    "Пересмотр старых метрик\n",
    "\n",
    "\n",
    "- \"Среднее количество пройденных уровней\" больше не говорит напрямую о прогрессе, нужно дополнительно учитывать, сколько раз их переигрывали.\n",
    "\n",
    "\n",
    "- \"Среднее время прохождения события\" возрастёт — но теперь это не всегда плохо, а может быть признаком вызова"
   ]
  },
  {
   "cell_type": "markdown",
   "metadata": {},
   "source": [
    " Вывод\n",
    " \n",
    " \n",
    "Да, набор метрик должен меняться, потому что:\n",
    "\n",
    "\n",
    "- Изменилась динамика прохождения и восприятия сложности.\n",
    "\n",
    "\n",
    "- Появились новые точки оттока.\n",
    "\n",
    "\n",
    "- Поведение игроков стало более волатильным: откаты могут или мотивировать, или отталкивать."
   ]
  },
  {
   "cell_type": "code",
   "execution_count": null,
   "metadata": {},
   "outputs": [],
   "source": []
  },
  {
   "cell_type": "code",
   "execution_count": null,
   "metadata": {},
   "outputs": [],
   "source": []
  }
 ],
 "metadata": {
  "kernelspec": {
   "display_name": "Python 3",
   "language": "python",
   "name": "python3"
  },
  "language_info": {
   "codemirror_mode": {
    "name": "ipython",
    "version": 3
   },
   "file_extension": ".py",
   "mimetype": "text/x-python",
   "name": "python",
   "nbconvert_exporter": "python",
   "pygments_lexer": "ipython3",
   "version": "3.7.3"
  }
 },
 "nbformat": 4,
 "nbformat_minor": 4
}
